{
 "metadata": {
  "name": "",
  "signature": "sha256:bb6254c5080ab23ccc588a87b51d738f0895ca5a1e39bb5714371a29fd71bdbf"
 },
 "nbformat": 3,
 "nbformat_minor": 0,
 "worksheets": []
}