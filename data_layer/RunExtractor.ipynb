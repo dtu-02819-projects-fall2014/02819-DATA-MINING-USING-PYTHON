{
 "metadata": {
  "name": "",
  "signature": "sha256:2e1900cea6c1f4628ce73afc9f66cf904e2bf7170e0308ef7b1d47d9b25c2018"
 },
 "nbformat": 3,
 "nbformat_minor": 0,
 "worksheets": [
  {
   "cells": [
    {
     "cell_type": "code",
     "collapsed": false,
     "input": [
      "%load_ext autoreload"
     ],
     "language": "python",
     "metadata": {},
     "outputs": [
      {
       "output_type": "stream",
       "stream": "stdout",
       "text": [
        "The autoreload extension is already loaded. To reload it, use:\n",
        "  %reload_ext autoreload\n"
       ]
      }
     ],
     "prompt_number": 10
    },
    {
     "cell_type": "code",
     "collapsed": false,
     "input": [
      "%autoreload 2"
     ],
     "language": "python",
     "metadata": {},
     "outputs": [],
     "prompt_number": 11
    },
    {
     "cell_type": "code",
     "collapsed": false,
     "input": [
      "import pprint\n",
      "import json\n",
      "import yelp_json"
     ],
     "language": "python",
     "metadata": {},
     "outputs": [],
     "prompt_number": 12
    },
    {
     "cell_type": "code",
     "collapsed": false,
     "input": [
      "CONSUMER_KEY = \"0RIvbgwDIG9Wb0xn4egpDg\"\n",
      "CONSUMER_SECRET = \"GePcZjQF6kBotNj7_EF8ufjn838\"\n",
      "TOKEN = \"odn7klLanKZ7RyFvTi7ch5lo7pA8XRFK\"\n",
      "TOKEN_SECRET = \"_VBs9ejXGX3U13s4aZveSA6gVng\""
     ],
     "language": "python",
     "metadata": {},
     "outputs": [],
     "prompt_number": 13
    },
    {
     "cell_type": "code",
     "collapsed": false,
     "input": [
      "extractor = yelp_json.YelpApiDataExtractor(CONSUMER_KEY, CONSUMER_SECRET, TOKEN, TOKEN_SECRET)"
     ],
     "language": "python",
     "metadata": {},
     "outputs": [],
     "prompt_number": 14
    },
    {
     "cell_type": "code",
     "collapsed": false,
     "input": [
      "json = extractor.query_api('dinner', 'New York', 1)"
     ],
     "language": "python",
     "metadata": {},
     "outputs": [],
     "prompt_number": 15
    },
    {
     "cell_type": "code",
     "collapsed": false,
     "input": [
      "pprint.pprint(json, indent=2)"
     ],
     "language": "python",
     "metadata": {},
     "outputs": [
      {
       "output_type": "stream",
       "stream": "stdout",
       "text": [
        "[ { u'categories': [ [u'American (New)', u'newamerican'],\n",
        "                     [u'Seafood', u'seafood']],\n",
        "    u'display_phone': u'+1-917-408-3395',\n",
        "    u'id': u'upstate-new-york-2',\n",
        "    u'image_url': u'http://s3-media3.fl.yelpcdn.com/bphoto/n1eS4dpbVO2qEn10NUf3PA/ms.jpg',\n",
        "    u'is_claimed': True,\n",
        "    u'is_closed': False,\n",
        "    u'location': { u'address': [u'95 1st Ave'],\n",
        "                   u'city': u'New York',\n",
        "                   u'coordinate': { u'latitude': 40.7263139141197,\n",
        "                                    u'longitude': -73.9864901976935},\n",
        "                   u'country_code': u'US',\n",
        "                   u'display_address': [ u'95 1st Ave',\n",
        "                                         u'East Village',\n",
        "                                         u'New York, NY 10003'],\n",
        "                   u'geo_accuracy': 9,\n",
        "                   u'neighborhoods': [u'East Village'],\n",
        "                   u'postal_code': u'10003',\n",
        "                   u'state_code': u'NY'},\n",
        "    u'mobile_url': u'http://m.yelp.com/biz/upstate-new-york-2',\n",
        "    u'name': u'Upstate',\n",
        "    u'phone': u'9174083395',\n",
        "    u'rating': 4.5,\n",
        "    u'rating_img_url': u'http://s3-media2.fl.yelpcdn.com/assets/2/www/img/99493c12711e/ico/stars/v1/stars_4_half.png',\n",
        "    u'rating_img_url_large': u'http://s3-media4.fl.yelpcdn.com/assets/2/www/img/9f83790ff7f6/ico/stars/v1/stars_large_4_half.png',\n",
        "    u'rating_img_url_small': u'http://s3-media2.fl.yelpcdn.com/assets/2/www/img/a5221e66bc70/ico/stars/v1/stars_small_4_half.png',\n",
        "    u'review_count': 702,\n",
        "    u'snippet_image_url': u'http://s3-media4.fl.yelpcdn.com/photo/XJD-ha5_7WDSJ2rnwrJKUw/ms.jpg',\n",
        "    u'snippet_text': u'Of all the meals I had in NYC, this one is easily my favorite. It was only helped my our amazing server. Extremely knowledgeable, witty and attentive, we...',\n",
        "    u'url': u'http://www.yelp.com/biz/upstate-new-york-2'}]\n"
       ]
      }
     ],
     "prompt_number": 17
    },
    {
     "cell_type": "code",
     "collapsed": false,
     "input": [
      "with open('data.txt', 'w') as output_json:\n",
      "    json.dump(data, output_json)"
     ],
     "language": "python",
     "metadata": {},
     "outputs": [
      {
       "ename": "NameError",
       "evalue": "name 'data' is not defined",
       "output_type": "pyerr",
       "traceback": [
        "\u001b[0;31m---------------------------------------------------------------------------\u001b[0m\n\u001b[0;31mNameError\u001b[0m                                 Traceback (most recent call last)",
        "\u001b[0;32m<ipython-input-27-b7d9355dce97>\u001b[0m in \u001b[0;36m<module>\u001b[0;34m()\u001b[0m\n\u001b[1;32m      1\u001b[0m \u001b[0;32mwith\u001b[0m \u001b[0mopen\u001b[0m\u001b[0;34m(\u001b[0m\u001b[0;34m'data.txt'\u001b[0m\u001b[0;34m,\u001b[0m \u001b[0;34m'w'\u001b[0m\u001b[0;34m)\u001b[0m \u001b[0;32mas\u001b[0m \u001b[0moutput_json\u001b[0m\u001b[0;34m:\u001b[0m\u001b[0;34m\u001b[0m\u001b[0m\n\u001b[0;32m----> 2\u001b[0;31m     \u001b[0mj\u001b[0m\u001b[0;34m.\u001b[0m\u001b[0mdump\u001b[0m\u001b[0;34m(\u001b[0m\u001b[0mdata\u001b[0m\u001b[0;34m,\u001b[0m \u001b[0moutput_json\u001b[0m\u001b[0;34m)\u001b[0m\u001b[0;34m\u001b[0m\u001b[0m\n\u001b[0m",
        "\u001b[0;31mNameError\u001b[0m: name 'data' is not defined"
       ]
      }
     ],
     "prompt_number": 27
    },
    {
     "cell_type": "code",
     "collapsed": false,
     "input": [],
     "language": "python",
     "metadata": {},
     "outputs": []
    }
   ],
   "metadata": {}
  }
 ]
}