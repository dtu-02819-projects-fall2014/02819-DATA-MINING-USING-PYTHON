{
 "metadata": {
  "name": "",
  "signature": "sha256:40b37bd264bed602fb62ccd1ec0bab329e4af8b6d4a89032f1a21ab44763c535"
 },
 "nbformat": 3,
 "nbformat_minor": 0,
 "worksheets": [
  {
   "cells": [
    {
     "cell_type": "code",
     "collapsed": false,
     "input": [
      "%load_ext autoreload"
     ],
     "language": "python",
     "metadata": {},
     "outputs": [],
     "prompt_number": 1
    },
    {
     "cell_type": "code",
     "collapsed": false,
     "input": [
      "%autoreload 2"
     ],
     "language": "python",
     "metadata": {},
     "outputs": [],
     "prompt_number": 12
    },
    {
     "cell_type": "code",
     "collapsed": false,
     "input": [
      "import pprint\n",
      "import json\n",
      "import yelp_json"
     ],
     "language": "python",
     "metadata": {},
     "outputs": [],
     "prompt_number": 13
    },
    {
     "cell_type": "code",
     "collapsed": false,
     "input": [
      "CONSUMER_KEY = \"0RIvbgwDIG9Wb0xn4egpDg\"\n",
      "CONSUMER_SECRET = \"GePcZjQF6kBotNj7_EF8ufjn838\"\n",
      "TOKEN = \"odn7klLanKZ7RyFvTi7ch5lo7pA8XRFK\"\n",
      "TOKEN_SECRET = \"_VBs9ejXGX3U13s4aZveSA6gVng\""
     ],
     "language": "python",
     "metadata": {},
     "outputs": [],
     "prompt_number": 14
    },
    {
     "cell_type": "code",
     "collapsed": false,
     "input": [
      "extractor = yelp_json.YelpApiDataExtractor(CONSUMER_KEY, CONSUMER_SECRET, TOKEN, TOKEN_SECRET)"
     ],
     "language": "python",
     "metadata": {},
     "outputs": [],
     "prompt_number": 15
    },
    {
     "cell_type": "code",
     "collapsed": false,
     "input": [
      "json = extractor.query_api('dinner', 'New York', 3)"
     ],
     "language": "python",
     "metadata": {},
     "outputs": [
      {
       "output_type": "stream",
       "stream": "stdout",
       "text": [
        "0\n",
        "1"
       ]
      },
      {
       "output_type": "stream",
       "stream": "stdout",
       "text": [
        "\n",
        "2"
       ]
      },
      {
       "output_type": "stream",
       "stream": "stdout",
       "text": [
        "\n"
       ]
      },
      {
       "ename": "UnicodeEncodeError",
       "evalue": "'ascii' codec can't encode character u'\\xe9' in position 15: ordinal not in range(128)",
       "output_type": "pyerr",
       "traceback": [
        "\u001b[0;31m---------------------------------------------------------------------------\u001b[0m\n\u001b[0;31mUnicodeEncodeError\u001b[0m                        Traceback (most recent call last)",
        "\u001b[0;32m<ipython-input-16-c60d068b5ca4>\u001b[0m in \u001b[0;36m<module>\u001b[0;34m()\u001b[0m\n\u001b[0;32m----> 1\u001b[0;31m \u001b[0mjson\u001b[0m \u001b[0;34m=\u001b[0m \u001b[0mextractor\u001b[0m\u001b[0;34m.\u001b[0m\u001b[0mquery_api\u001b[0m\u001b[0;34m(\u001b[0m\u001b[0;34m'dinner'\u001b[0m\u001b[0;34m,\u001b[0m \u001b[0;34m'New York'\u001b[0m\u001b[0;34m,\u001b[0m \u001b[0;36m3\u001b[0m\u001b[0;34m)\u001b[0m\u001b[0;34m\u001b[0m\u001b[0m\n\u001b[0m",
        "\u001b[0;32m/Users/andreasboye/Documents/02819-DATA-MINING-USING-PYTHON/data_layer/yelp_json.py\u001b[0m in \u001b[0;36mquery_api\u001b[0;34m(self, term, location, search_limit)\u001b[0m\n\u001b[1;32m     40\u001b[0m         \u001b[0;32mfor\u001b[0m \u001b[0mi\u001b[0m \u001b[0;32min\u001b[0m \u001b[0mrange\u001b[0m\u001b[0;34m(\u001b[0m\u001b[0;36m0\u001b[0m\u001b[0;34m,\u001b[0m \u001b[0msearch_limit\u001b[0m\u001b[0;34m)\u001b[0m\u001b[0;34m:\u001b[0m\u001b[0;34m\u001b[0m\u001b[0m\n\u001b[1;32m     41\u001b[0m             \u001b[0;32mprint\u001b[0m \u001b[0mi\u001b[0m\u001b[0;34m\u001b[0m\u001b[0m\n\u001b[0;32m---> 42\u001b[0;31m             \u001b[0mresults\u001b[0m\u001b[0;34m.\u001b[0m\u001b[0mappend\u001b[0m\u001b[0;34m(\u001b[0m\u001b[0mself\u001b[0m\u001b[0;34m.\u001b[0m\u001b[0m__get_business\u001b[0m\u001b[0;34m(\u001b[0m\u001b[0mbusinesses\u001b[0m\u001b[0;34m[\u001b[0m\u001b[0mi\u001b[0m\u001b[0;34m]\u001b[0m\u001b[0;34m[\u001b[0m\u001b[0;34m'id'\u001b[0m\u001b[0;34m]\u001b[0m\u001b[0;34m)\u001b[0m\u001b[0;34m)\u001b[0m\u001b[0;34m\u001b[0m\u001b[0m\n\u001b[0m\u001b[1;32m     43\u001b[0m \u001b[0;34m\u001b[0m\u001b[0m\n\u001b[1;32m     44\u001b[0m         \u001b[0;32mreturn\u001b[0m \u001b[0mresults\u001b[0m\u001b[0;34m\u001b[0m\u001b[0m\n",
        "\u001b[0;32m/Users/andreasboye/Documents/02819-DATA-MINING-USING-PYTHON/data_layer/yelp_json.py\u001b[0m in \u001b[0;36m__get_business\u001b[0;34m(self, business_id)\u001b[0m\n\u001b[1;32m     64\u001b[0m         \"\"\"\n\u001b[1;32m     65\u001b[0m         \u001b[0mbusiness_path\u001b[0m \u001b[0;34m=\u001b[0m \u001b[0;34m'/v2/business/'\u001b[0m\u001b[0;34m+\u001b[0m\u001b[0mbusiness_id\u001b[0m\u001b[0;34m\u001b[0m\u001b[0m\n\u001b[0;32m---> 66\u001b[0;31m         \u001b[0;32mreturn\u001b[0m \u001b[0mself\u001b[0m\u001b[0;34m.\u001b[0m\u001b[0m__request\u001b[0m\u001b[0;34m(\u001b[0m\u001b[0;34m'api.yelp.com'\u001b[0m\u001b[0;34m,\u001b[0m \u001b[0mbusiness_path\u001b[0m\u001b[0;34m)\u001b[0m\u001b[0;34m\u001b[0m\u001b[0m\n\u001b[0m\u001b[1;32m     67\u001b[0m \u001b[0;34m\u001b[0m\u001b[0m\n\u001b[1;32m     68\u001b[0m     \u001b[0;32mdef\u001b[0m \u001b[0m__request\u001b[0m\u001b[0;34m(\u001b[0m\u001b[0mself\u001b[0m\u001b[0;34m,\u001b[0m \u001b[0mhost\u001b[0m\u001b[0;34m,\u001b[0m \u001b[0mpath\u001b[0m\u001b[0;34m,\u001b[0m \u001b[0murl_params\u001b[0m\u001b[0;34m=\u001b[0m\u001b[0mNone\u001b[0m\u001b[0;34m)\u001b[0m\u001b[0;34m:\u001b[0m\u001b[0;34m\u001b[0m\u001b[0m\n",
        "\u001b[0;32m/Users/andreasboye/Documents/02819-DATA-MINING-USING-PYTHON/data_layer/yelp_json.py\u001b[0m in \u001b[0;36m__request\u001b[0;34m(self, host, path, url_params)\u001b[0m\n\u001b[1;32m     73\u001b[0m         \u001b[0mencoded_params\u001b[0m \u001b[0;34m=\u001b[0m \u001b[0murllib\u001b[0m\u001b[0;34m.\u001b[0m\u001b[0murlencode\u001b[0m\u001b[0;34m(\u001b[0m\u001b[0murl_params\u001b[0m\u001b[0;34m)\u001b[0m\u001b[0;34m\u001b[0m\u001b[0m\n\u001b[1;32m     74\u001b[0m \u001b[0;34m\u001b[0m\u001b[0m\n\u001b[0;32m---> 75\u001b[0;31m         \u001b[0murl\u001b[0m \u001b[0;34m=\u001b[0m \u001b[0;34m'http://{0}{1}?{2}'\u001b[0m\u001b[0;34m.\u001b[0m\u001b[0mformat\u001b[0m\u001b[0;34m(\u001b[0m\u001b[0mhost\u001b[0m\u001b[0;34m,\u001b[0m \u001b[0mpath\u001b[0m\u001b[0;34m,\u001b[0m \u001b[0mencoded_params\u001b[0m\u001b[0;34m)\u001b[0m\u001b[0;34m\u001b[0m\u001b[0m\n\u001b[0m\u001b[1;32m     76\u001b[0m \u001b[0;34m\u001b[0m\u001b[0m\n\u001b[1;32m     77\u001b[0m         \u001b[0mconsumer\u001b[0m \u001b[0;34m=\u001b[0m \u001b[0moauth2\u001b[0m\u001b[0;34m.\u001b[0m\u001b[0mConsumer\u001b[0m\u001b[0;34m(\u001b[0m\u001b[0mself\u001b[0m\u001b[0;34m.\u001b[0m\u001b[0mconsumer_key\u001b[0m\u001b[0;34m,\u001b[0m \u001b[0mself\u001b[0m\u001b[0;34m.\u001b[0m\u001b[0mconsumer_secret\u001b[0m\u001b[0;34m)\u001b[0m\u001b[0;34m\u001b[0m\u001b[0m\n",
        "\u001b[0;31mUnicodeEncodeError\u001b[0m: 'ascii' codec can't encode character u'\\xe9' in position 15: ordinal not in range(128)"
       ]
      }
     ],
     "prompt_number": 16
    },
    {
     "cell_type": "code",
     "collapsed": false,
     "input": [
      "pprint.pprint(json, indent=2)"
     ],
     "language": "python",
     "metadata": {},
     "outputs": [
      {
       "output_type": "stream",
       "stream": "stdout",
       "text": [
        "[ { u'categories': [ [u'American (New)', u'newamerican'],\n",
        "                     [u'Seafood', u'seafood']],\n",
        "    u'display_phone': u'+1-917-408-3395',\n",
        "    u'id': u'upstate-new-york-2',\n",
        "    u'image_url': u'http://s3-media3.fl.yelpcdn.com/bphoto/n1eS4dpbVO2qEn10NUf3PA/ms.jpg',\n",
        "    u'is_claimed': True,\n",
        "    u'is_closed': False,\n",
        "    u'location': { u'address': [u'95 1st Ave'],\n",
        "                   u'city': u'New York',\n",
        "                   u'coordinate': { u'latitude': 40.7263139141197,\n",
        "                                    u'longitude': -73.9864901976935},\n",
        "                   u'country_code': u'US',\n",
        "                   u'display_address': [ u'95 1st Ave',\n",
        "                                         u'East Village',\n",
        "                                         u'New York, NY 10003'],\n",
        "                   u'geo_accuracy': 9,\n",
        "                   u'neighborhoods': [u'East Village'],\n",
        "                   u'postal_code': u'10003',\n",
        "                   u'state_code': u'NY'},\n",
        "    u'mobile_url': u'http://m.yelp.com/biz/upstate-new-york-2',\n",
        "    u'name': u'Upstate',\n",
        "    u'phone': u'9174083395',\n",
        "    u'rating': 4.5,\n",
        "    u'rating_img_url': u'http://s3-media2.fl.yelpcdn.com/assets/2/www/img/99493c12711e/ico/stars/v1/stars_4_half.png',\n",
        "    u'rating_img_url_large': u'http://s3-media4.fl.yelpcdn.com/assets/2/www/img/9f83790ff7f6/ico/stars/v1/stars_large_4_half.png',\n",
        "    u'rating_img_url_small': u'http://s3-media2.fl.yelpcdn.com/assets/2/www/img/a5221e66bc70/ico/stars/v1/stars_small_4_half.png',\n",
        "    u'review_count': 703,\n",
        "    u'reviews': [ { u'excerpt': u'Of all the meals I had in NYC, this one is easily my favorite. It was only helped my our amazing server. Extremely knowledgeable, witty and attentive, we...',\n",
        "                    u'id': u'QcMmIwWL8EFkns1JYQEZZw',\n",
        "                    u'rating': 5,\n",
        "                    u'rating_image_large_url': u'http://s3-media3.fl.yelpcdn.com/assets/2/www/img/22affc4e6c38/ico/stars/v1/stars_large_5.png',\n",
        "                    u'rating_image_small_url': u'http://s3-media1.fl.yelpcdn.com/assets/2/www/img/c7623205d5cd/ico/stars/v1/stars_small_5.png',\n",
        "                    u'rating_image_url': u'http://s3-media1.fl.yelpcdn.com/assets/2/www/img/f1def11e4e79/ico/stars/v1/stars_5.png',\n",
        "                    u'time_created': 1413133739,\n",
        "                    u'user': { u'id': u'jAiGoRmj3eAkeH_3KfudXg',\n",
        "                               u'image_url': u'http://s3-media4.fl.yelpcdn.com/photo/XJD-ha5_7WDSJ2rnwrJKUw/ms.jpg',\n",
        "                               u'name': u'Mary T.'}}],\n",
        "    u'snippet_image_url': u'http://s3-media4.fl.yelpcdn.com/photo/XJD-ha5_7WDSJ2rnwrJKUw/ms.jpg',\n",
        "    u'snippet_text': u'Of all the meals I had in NYC, this one is easily my favorite. It was only helped my our amazing server. Extremely knowledgeable, witty and attentive, we...',\n",
        "    u'url': u'http://www.yelp.com/biz/upstate-new-york-2'},\n",
        "  { u'categories': [[u'American (New)', u'newamerican']],\n",
        "    u'display_phone': u'+1-347-844-9578',\n",
        "    u'id': u'traif-brooklyn',\n",
        "    u'image_url': u'http://s3-media2.fl.yelpcdn.com/bphoto/TbnPRQN62MqIthpf4ZCWnQ/ms.jpg',\n",
        "    u'is_claimed': True,\n",
        "    u'is_closed': False,\n",
        "    u'location': { u'address': [u'229 S 4th St'],\n",
        "                   u'city': u'Brooklyn',\n",
        "                   u'coordinate': { u'latitude': 40.710658,\n",
        "                                    u'longitude': -73.958872},\n",
        "                   u'country_code': u'US',\n",
        "                   u'cross_streets': u'Roebling St & Havemeyer St',\n",
        "                   u'display_address': [ u'229 S 4th St',\n",
        "                                         u'Williamsburg - South Side',\n",
        "                                         u'Brooklyn, NY 11211'],\n",
        "                   u'geo_accuracy': 9,\n",
        "                   u'neighborhoods': [u'Williamsburg - South Side'],\n",
        "                   u'postal_code': u'11211',\n",
        "                   u'state_code': u'NY'},\n",
        "    u'menu_date_updated': 1387714399,\n",
        "    u'menu_provider': u'single_platform',\n",
        "    u'mobile_url': u'http://m.yelp.com/biz/traif-brooklyn',\n",
        "    u'name': u'Traif',\n",
        "    u'phone': u'3478449578',\n",
        "    u'rating': 4.5,\n",
        "    u'rating_img_url': u'http://s3-media2.fl.yelpcdn.com/assets/2/www/img/99493c12711e/ico/stars/v1/stars_4_half.png',\n",
        "    u'rating_img_url_large': u'http://s3-media4.fl.yelpcdn.com/assets/2/www/img/9f83790ff7f6/ico/stars/v1/stars_large_4_half.png',\n",
        "    u'rating_img_url_small': u'http://s3-media2.fl.yelpcdn.com/assets/2/www/img/a5221e66bc70/ico/stars/v1/stars_small_4_half.png',\n",
        "    u'review_count': 1239,\n",
        "    u'reviews': [ { u'excerpt': u'This place is truly a gem in NY! They offer small plates which I loved; it gave us the opportunity to try multiple items. I highly highly recommend this...',\n",
        "                    u'id': u'uN2MAKyRupEQwrGut9QKyw',\n",
        "                    u'rating': 5,\n",
        "                    u'rating_image_large_url': u'http://s3-media3.fl.yelpcdn.com/assets/2/www/img/22affc4e6c38/ico/stars/v1/stars_large_5.png',\n",
        "                    u'rating_image_small_url': u'http://s3-media1.fl.yelpcdn.com/assets/2/www/img/c7623205d5cd/ico/stars/v1/stars_small_5.png',\n",
        "                    u'rating_image_url': u'http://s3-media1.fl.yelpcdn.com/assets/2/www/img/f1def11e4e79/ico/stars/v1/stars_5.png',\n",
        "                    u'time_created': 1413000826,\n",
        "                    u'user': { u'id': u'Ti1352w6337ozHJTsjt0nw',\n",
        "                               u'image_url': u'http://s3-media2.fl.yelpcdn.com/photo/N5iZqfyheKj9KBf49g8iuw/ms.jpg',\n",
        "                               u'name': u'Ashley W.'}}],\n",
        "    u'snippet_image_url': u'http://s3-media2.fl.yelpcdn.com/photo/N5iZqfyheKj9KBf49g8iuw/ms.jpg',\n",
        "    u'snippet_text': u'This place is truly a gem in NY! They offer small plates which I loved; it gave us the opportunity to try multiple items. I highly highly recommend this...',\n",
        "    u'url': u'http://www.yelp.com/biz/traif-brooklyn'}]\n"
       ]
      }
     ],
     "prompt_number": 51
    },
    {
     "cell_type": "code",
     "collapsed": false,
     "input": [
      "with open('data.txt', 'w') as output_json:\n",
      "    json.dump(data, output_json)"
     ],
     "language": "python",
     "metadata": {},
     "outputs": [
      {
       "ename": "NameError",
       "evalue": "name 'data' is not defined",
       "output_type": "pyerr",
       "traceback": [
        "\u001b[0;31m---------------------------------------------------------------------------\u001b[0m\n\u001b[0;31mNameError\u001b[0m                                 Traceback (most recent call last)",
        "\u001b[0;32m<ipython-input-27-b7d9355dce97>\u001b[0m in \u001b[0;36m<module>\u001b[0;34m()\u001b[0m\n\u001b[1;32m      1\u001b[0m \u001b[0;32mwith\u001b[0m \u001b[0mopen\u001b[0m\u001b[0;34m(\u001b[0m\u001b[0;34m'data.txt'\u001b[0m\u001b[0;34m,\u001b[0m \u001b[0;34m'w'\u001b[0m\u001b[0;34m)\u001b[0m \u001b[0;32mas\u001b[0m \u001b[0moutput_json\u001b[0m\u001b[0;34m:\u001b[0m\u001b[0;34m\u001b[0m\u001b[0m\n\u001b[0;32m----> 2\u001b[0;31m     \u001b[0mj\u001b[0m\u001b[0;34m.\u001b[0m\u001b[0mdump\u001b[0m\u001b[0;34m(\u001b[0m\u001b[0mdata\u001b[0m\u001b[0;34m,\u001b[0m \u001b[0moutput_json\u001b[0m\u001b[0;34m)\u001b[0m\u001b[0;34m\u001b[0m\u001b[0m\n\u001b[0m",
        "\u001b[0;31mNameError\u001b[0m: name 'data' is not defined"
       ]
      }
     ],
     "prompt_number": 27
    },
    {
     "cell_type": "code",
     "collapsed": false,
     "input": [],
     "language": "python",
     "metadata": {},
     "outputs": []
    }
   ],
   "metadata": {}
  }
 ]
}