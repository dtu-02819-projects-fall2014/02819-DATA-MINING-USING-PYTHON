{
 "metadata": {
  "name": "",
  "signature": "sha256:7efbc908bf9ce82a02f731ddba6c60e57b14b750c06ab7d40c8d62edadb97ba9"
 },
 "nbformat": 3,
 "nbformat_minor": 0,
 "worksheets": [
  {
   "cells": [
    {
     "cell_type": "code",
     "collapsed": false,
     "input": [
      "%load_ext autoreload"
     ],
     "language": "python",
     "metadata": {},
     "outputs": [
      {
       "output_type": "stream",
       "stream": "stdout",
       "text": [
        "The autoreload extension is already loaded. To reload it, use:\n",
        "  %reload_ext autoreload\n"
       ]
      }
     ],
     "prompt_number": 68
    },
    {
     "cell_type": "code",
     "collapsed": false,
     "input": [
      "%autoreload 2"
     ],
     "language": "python",
     "metadata": {},
     "outputs": [],
     "prompt_number": 69
    },
    {
     "cell_type": "code",
     "collapsed": false,
     "input": [
      "import web_scraper"
     ],
     "language": "python",
     "metadata": {},
     "outputs": [],
     "prompt_number": 70
    },
    {
     "cell_type": "code",
     "collapsed": false,
     "input": [
      "web_scraper.scrap_users()"
     ],
     "language": "python",
     "metadata": {},
     "outputs": [
      {
       "output_type": "stream",
       "stream": "stdout",
       "text": [
        "IblhBV3KOWxIILffz2zIdQ John S.\n",
        "5R_Xg2o2I6_m5ja2dvjAyw Laura A.\n",
        "frS4cNy-u7ZjY8ga9bie_g Elisa L.\n",
        "2e1BLvjNWDKF6AoOekz4gg Chris C.\n",
        "F6glGg2elw1dN1JJzf-sPg Hannah C.\n",
        "uJT54hp_GVvlr4RVOq8hOQ Juan P V.\n",
        "_Dt4WBep8CLL0-DyI3dmHw Ellina I.\n",
        "zm1_l3B3GslMpQNIOX3btw Hara W.\n",
        "XCRR69naGOvYRhpeWFlW0A Nik S.\n",
        "jAbM88Q3UcdkYG3QaZXOKw Rosana V.\n",
        "jAiGoRmj3eAkeH_3KfudXg Mary T.\n",
        "aUDfQaKjx8_rEdRYnfFWZA David M.\n",
        "hLYBFgDSylWiB84h6zJd5g Cecil\u00e8 C.\n",
        "KD3IxOxTQU7J3yKktPugBA Han C.\n",
        "18YMA-abof4NV0_X2XDgEw Margaret T.\n",
        "7tkkSAdfLAMVAFZ9vbut3A Aimee C.\n",
        "30uz6Y9rRuL7mfB84NZwZg Yohsuke M.\n",
        "Z0C_AdA4vJwzrg1Fe4yddg Jenny L.\n",
        "mB40W972kFqC8zYsC9w1Fg Jessica C.\n",
        "A8vGYI5El1LqDHQtRQLTNg Simon C.\n",
        "MpeEJvtAk_baaXMW09CTSQ Lilia B.\n",
        "zegMcPCeyd3kjKRP0b5V1w Annie N.\n",
        "ZGw3djjuc26eEBQsdOY9EA Elena H.\n",
        "XCcugBozVHU4OWGFlGb6mg Ashley K.\n",
        "CshRsMVXpIFrOCFoL-jMYA Joyce C.\n",
        "S27u4y7EmDgTQ9GTunHqqA Shilpa G.\n",
        "gpR3XkOEdw-PCJGUjhYcgQ Giacomo C.\n",
        "i3_POMuiXuL6bEePbtlCkw Julie H.\n",
        "GC4TViVcSHnFaRdTX7nEyA Shushu C.\n",
        "Wslw01Kp-28PaIEavxQ0MQ Dru C.\n",
        "1KMt6fdKcEAdStjeJqk6iA Jennifer A.\n",
        "CH1TxHx6Wq2mVJgCayxSmA John G.\n",
        "DaV7jKNC9VuBM-0XTT2IgQ Lori L.\n",
        "8LACtPp-6SLWf-N4oDNnQg Favium G.\n",
        "zEl1VqSqQe_Pohrvpi5flg Jackie P.\n",
        "xu3UDzs765IMw1AeKsw-Iw Justin D.\n",
        "Hh1gHdO9NunTFoZhvgh3YQ Jennifer W.\n",
        "APoAugdz6nscL4HjF4Oryg Allene T.\n",
        "Ylh8765Nbv8vy14J_vnX8Q Nahtanoj B.\n",
        "5fX9IC0SYx6oivxms2yKfQ Juanita D.\n",
        "RiZWKGcXQsA6OdaGlEgRzg Kate C.\n",
        "sd7is0QNOTZ_xpixfjslNg Eva C.\n",
        "LAX-mM-cOJ2ownL-waC8ww Sean S.\n"
       ]
      }
     ],
     "prompt_number": 71
    },
    {
     "cell_type": "code",
     "collapsed": false,
     "input": [
      "web_scraper.next_users(\"http://www.yelp.com/biz/upstate-new-york-2\", 40)"
     ],
     "language": "python",
     "metadata": {},
     "outputs": [
      {
       "output_type": "stream",
       "stream": "stdout",
       "text": [
        "http://www.yelp.com/biz/upstate-new-york-2?start=40\n"
       ]
      }
     ],
     "prompt_number": 72
    },
    {
     "cell_type": "code",
     "collapsed": false,
     "input": [],
     "language": "python",
     "metadata": {},
     "outputs": [],
     "prompt_number": 72
    }
   ],
   "metadata": {}
  }
 ]
}